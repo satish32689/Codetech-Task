{
  "nbformat": 4,
  "nbformat_minor": 0,
  "metadata": {
    "colab": {
      "provenance": [],
      "mount_file_id": "1yOVXYxF-vFNNmlr3t7hK6hFoHJ3ALmmH",
      "authorship_tag": "ABX9TyPi6jO6INyXj4VglzPPFHit",
      "include_colab_link": true
    },
    "kernelspec": {
      "name": "python3",
      "display_name": "Python 3"
    },
    "language_info": {
      "name": "python"
    }
  },
  "cells": [
    {
      "cell_type": "markdown",
      "metadata": {
        "id": "view-in-github",
        "colab_type": "text"
      },
      "source": [
        "<a href=\"https://colab.research.google.com/github/satish32689/Codetech-Task/blob/main/IMDB_Movie_Reviews.ipynb\" target=\"_parent\"><img src=\"https://colab.research.google.com/assets/colab-badge.svg\" alt=\"Open In Colab\"/></a>"
      ]
    },
    {
      "cell_type": "markdown",
      "source": [
        "**IMDB Movie Reviews**:-\n",
        "Movie dataset for binary sentiment classification containing substantially more data than previous benchmark datasets. We provide a set of 25,000 highly polar movie reviews for training and 25,000 for testing. So, predict the number of positive and negative reviews using either classification or deep learning algorithms.\n",
        "\n",
        "**Dataset**:-https://edunetfoundationorg-my.sharepoint.com/:x:/g/personal/shabaz_edunetfoundation_org/EZrr-YHlLopPq6kCMvmoKp4BPPuBjckscToIHzQN4YA9Ng?e=X7daKH"
      ],
      "metadata": {
        "id": "1EPB-WQPwnPG"
      }
    },
    {
      "cell_type": "code",
      "execution_count": 5,
      "metadata": {
        "id": "xrtE3B2fYiM8"
      },
      "outputs": [],
      "source": [
        "import pandas as pd\n",
        "import nltk\n",
        "from nltk.corpus import stopwords\n",
        "from sklearn.model_selection import train_test_split\n",
        "from sklearn.feature_extraction.text import CountVectorizer\n",
        "from sklearn.naive_bayes import MultinomialNB\n",
        "from sklearn.metrics import accuracy_score, classification_report\n",
        "\n",
        "\n",
        "data = pd.read_csv('/content/drive/MyDrive/Colab Notebooks/IMDB Dataset.csv')"
      ]
    },
    {
      "cell_type": "code",
      "source": [
        "def clean_text(text):\n",
        "    text = text.lower()  # Convert to lowercase\n",
        "    text = text.strip()  # Remove leading and trailing whitespaces\n",
        "    text = ' '.join([word for word in text.split() if word not in stopwords.words('english')])  # Remove stopwords\n",
        "    return text"
      ],
      "metadata": {
        "id": "rj44ZpUZYtM5"
      },
      "execution_count": 6,
      "outputs": []
    },
    {
      "cell_type": "code",
      "source": [
        "import nltk\n",
        "nltk.download('stopwords')"
      ],
      "metadata": {
        "colab": {
          "base_uri": "https://localhost:8080/"
        },
        "id": "I3t77LZPiUi6",
        "outputId": "4e358f3e-6fd6-44bc-f820-4ded8d0c4d92"
      },
      "execution_count": 8,
      "outputs": [
        {
          "output_type": "stream",
          "name": "stderr",
          "text": [
            "[nltk_data] Downloading package stopwords to /root/nltk_data...\n",
            "[nltk_data]   Unzipping corpora/stopwords.zip.\n"
          ]
        },
        {
          "output_type": "execute_result",
          "data": {
            "text/plain": [
              "True"
            ]
          },
          "metadata": {},
          "execution_count": 8
        }
      ]
    },
    {
      "cell_type": "code",
      "source": [
        "data['cleaned_review'] = data['review'].apply(clean_text)\n",
        "\n",
        "# Split the data into train and test sets\n",
        "train_data, test_data = train_test_split(data, test_size=0.5, random_state=42)\n"
      ],
      "metadata": {
        "id": "aeHaksSUiF68"
      },
      "execution_count": 9,
      "outputs": []
    },
    {
      "cell_type": "code",
      "source": [
        "vectorizer = CountVectorizer()\n",
        "X_train = vectorizer.fit_transform(train_data['cleaned_review'])\n",
        "X_test = vectorizer.transform(test_data['cleaned_review'])"
      ],
      "metadata": {
        "id": "XUuzGqpAiKUj"
      },
      "execution_count": 10,
      "outputs": []
    },
    {
      "cell_type": "code",
      "source": [
        "classifier = MultinomialNB()\n",
        "classifier.fit(X_train, train_data['sentiment'])\n",
        "\n",
        "# Predict on the test set\n",
        "predictions = classifier.predict(X_test)\n",
        "\n",
        "# Evaluate the classifier\n",
        "accuracy = accuracy_score(test_data['sentiment'], predictions)\n",
        "report = classification_report(test_data['sentiment'], predictions)"
      ],
      "metadata": {
        "id": "3BujxbxdnocM"
      },
      "execution_count": 11,
      "outputs": []
    },
    {
      "cell_type": "code",
      "source": [
        "print(f\"Accuracy: {accuracy}\")\n",
        "print(\"Classification Report:\")\n",
        "print(report)\n",
        "\n",
        "# Count positive and negative reviews\n",
        "positive_reviews = (predictions == 'positive').sum()\n",
        "negative_reviews = (predictions == 'negative').sum()\n",
        "\n",
        "print(f\"Number of positive reviews: {positive_reviews}\")\n",
        "print(f\"Number of negative reviews: {negative_reviews}\")"
      ],
      "metadata": {
        "colab": {
          "base_uri": "https://localhost:8080/"
        },
        "id": "E2Vxd-PZnvJK",
        "outputId": "b1070fdf-d2c5-4d0c-d4c4-dcf59c2a424e"
      },
      "execution_count": 12,
      "outputs": [
        {
          "output_type": "stream",
          "name": "stdout",
          "text": [
            "Accuracy: 0.85756\n",
            "Classification Report:\n",
            "              precision    recall  f1-score   support\n",
            "\n",
            "    negative       0.85      0.87      0.86     12483\n",
            "    positive       0.87      0.84      0.86     12517\n",
            "\n",
            "    accuracy                           0.86     25000\n",
            "   macro avg       0.86      0.86      0.86     25000\n",
            "weighted avg       0.86      0.86      0.86     25000\n",
            "\n",
            "Number of positive reviews: 12110\n",
            "Number of negative reviews: 12890\n"
          ]
        }
      ]
    },
    {
      "cell_type": "code",
      "source": [],
      "metadata": {
        "id": "QgoYP2iMnxxG"
      },
      "execution_count": null,
      "outputs": []
    }
  ]
}